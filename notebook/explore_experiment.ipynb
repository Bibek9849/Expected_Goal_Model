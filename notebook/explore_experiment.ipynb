{
 "cells": [
  {
   "cell_type": "markdown",
   "metadata": {},
   "source": [
    "### import necessary modules"
   ]
  },
  {
   "cell_type": "code",
   "execution_count": 33,
   "metadata": {},
   "outputs": [],
   "source": [
    "import joblib\n",
    "import os\n",
    "import math\n",
    "import numpy as np\n",
    "import pandas as pd\n",
    "import matplotlib.pyplot as plt\n",
    "import matplotlib as mpl\n",
    "from matplotlib import cm\n",
    "from matplotlib import colors\n",
    "import dataframe_image as dfi\n",
    "import seaborn as sns\n",
    "import statsmodels.api as sm\n",
    "from statsmodels.stats.outliers_influence import variance_inflation_factor\n",
    "from sklearn import preprocessing\n",
    "from sklearn.linear_model import LogisticRegression\n",
    "from sklearn.model_selection import GridSearchCV\n",
    "from sklearn import metrics\n",
    "from sklearn import ensemble\n",
    "from sklearn.ensemble import RandomForestClassifier\n",
    "from xgboost import XGBClassifier\n",
    "\n",
    "pd.set_option(\"display.max_columns\", None)\n",
    "\n",
    "%run ../src/utils_io.py\n",
    "%run ../src/utils_viz.py\n",
    "%run ../src/scaling.py\n",
    "%run ../src/grid_search.py"
   ]
  },
  {
   "cell_type": "markdown",
   "metadata": {},
   "source": [
    "### load the data"
   ]
  },
  {
   "cell_type": "code",
   "execution_count": 34,
   "metadata": {},
   "outputs": [],
   "source": [
    "log_train_df = pd.read_pickle('../input/advance_dataset/train_test_data_result/train_preds_log_regg.pkl')\n",
    "log_test_df = pd.read_pickle('../input/advance_dataset/train_test_data_result/test_preds_log_regg.pkl')\n",
    "\n",
    "rnd_train_df = pd.read_pickle('../input/advance_dataset/train_test_data_result/train_preds_random_forest.pkl')\n",
    "rnd_test_df = pd.read_pickle('../input/advance_dataset/train_test_data_result/test_preds_random_forest.pkl')\n",
    "\n",
    "xb_train_df = pd.read_pickle('../input/advance_dataset/train_test_data_result/train_preds_xg_boost.pkl')\n",
    "xb_test_df = pd.read_pickle('../input/advance_dataset/train_test_data_result/test_preds_xg_boost.pkl')"
   ]
  },
  {
   "cell_type": "markdown",
   "metadata": {},
   "source": [
    "### plot the statsbomb_xg_values"
   ]
  },
  {
   "cell_type": "code",
   "execution_count": 35,
   "metadata": {},
   "outputs": [],
   "source": [
    "## title of our plots\n",
    "title_1 = \"Statsbomb xG value for train-set\"\n",
    "title_2 = \"Statsbomb xG value for test-set\"\n",
    "\n",
    "## path where plots will be saved\n",
    "path = \"../plots/real_values/\"\n",
    "\n",
    "## name of the plots that will be saved\n",
    "name_1 = \"train.jpg\"\n",
    "name_2 = \"test.jpg\"\n",
    "\n",
    "## check for directory\n",
    "if os.path.isdir(path) == False:\n",
    "    os.mkdir(path)\n",
    "\n",
    "## make the plots\n",
    "xG_plot(log_train_df, \"shot_statsbomb_xg\", title_1, path + name_1)\n",
    "xG_plot(log_test_df, \"shot_statsbomb_xg\", title_2, path + name_2)\n",
    "\n",
    "plt.close(\"all\")"
   ]
  },
  {
   "cell_type": "markdown",
   "metadata": {},
   "source": [
    "## training plots"
   ]
  },
  {
   "cell_type": "code",
   "execution_count": 36,
   "metadata": {},
   "outputs": [],
   "source": [
    "title_1 = \"Logistic Regression on train-set\"\n",
    "title_2 = \"Random Forest on train-set\"\n",
    "title_3 = \"xG Boost on train-set\"\n",
    "\n",
    "path_1 = \"../plots/advance_model/\"\n",
    "\n",
    "name_1 = \"log_train.jpg\"\n",
    "name_2 = \"rnd_train.jpg\"\n",
    "name_3 = \"xb_train.jpg\"\n",
    "\n",
    "if os.path.isdir(path_1) == False:\n",
    "    os.mkdir(path_1)\n",
    "\n",
    "xG_plot(log_train_df, \"pred_log_regg\", title_1, path_1 + name_1)\n",
    "xG_plot(rnd_train_df, \"pred_random_forest\", title_2, path_1 + name_2)\n",
    "xG_plot(xb_train_df, \"pred_xg_boost\", title_3, path_1 + name_3)\n",
    "\n",
    "plt.close(\"all\")"
   ]
  },
  {
   "cell_type": "markdown",
   "metadata": {},
   "source": [
    "## test plots"
   ]
  },
  {
   "cell_type": "code",
   "execution_count": 37,
   "metadata": {},
   "outputs": [],
   "source": [
    "title_1 = \"Logistic Regression on test-set\"\n",
    "title_2 = \"Random Forest on test-set\"\n",
    "title_3 = \"xG Boost on test-set\"\n",
    "\n",
    "path_1 = \"../plots/advance_model/\"\n",
    "\n",
    "name_1 = \"log_test.jpg\"\n",
    "name_2 = \"rnd_test.jpg\"\n",
    "name_3 = \"xb_test.jpg\"\n",
    "\n",
    "if os.path.isdir(path_1) == False:\n",
    "    os.mkdir(path_1)\n",
    "\n",
    "xG_plot(log_test_df, \"pred_log_regg\", title_1, path_1 + name_1)\n",
    "xG_plot(rnd_test_df, \"pred_random_forest\", title_2, path_1 + name_2)\n",
    "xG_plot(xb_test_df, \"pred_xg_boost\", title_3, path_1 + name_3)\n",
    "\n",
    "plt.close(\"all\")"
   ]
  },
  {
   "cell_type": "markdown",
   "metadata": {},
   "source": [
    "## aggregated xG values"
   ]
  },
  {
   "cell_type": "code",
   "execution_count": 38,
   "metadata": {},
   "outputs": [
    {
     "ename": "AttributeError",
     "evalue": "'Styler' object has no attribute 'hide_index'",
     "output_type": "error",
     "traceback": [
      "\u001b[0;31m---------------------------------------------------------------------------\u001b[0m",
      "\u001b[0;31mAttributeError\u001b[0m                            Traceback (most recent call last)",
      "Cell \u001b[0;32mIn[38], line 24\u001b[0m\n\u001b[1;32m     21\u001b[0m \u001b[38;5;28;01mif\u001b[39;00m os\u001b[38;5;241m.\u001b[39mpath\u001b[38;5;241m.\u001b[39misdir(path_1) \u001b[38;5;241m==\u001b[39m \u001b[38;5;28;01mFalse\u001b[39;00m:\n\u001b[1;32m     22\u001b[0m     os\u001b[38;5;241m.\u001b[39mmkdir(path_1) \n\u001b[0;32m---> 24\u001b[0m \u001b[43mplot_dataframe\u001b[49m\u001b[43m(\u001b[49m\n\u001b[1;32m     25\u001b[0m \u001b[43m    \u001b[49m\u001b[43mmain_df\u001b[49m\u001b[43m,\u001b[49m\n\u001b[1;32m     26\u001b[0m \u001b[43m    \u001b[49m\u001b[43mpath\u001b[49m\u001b[38;5;241;43m=\u001b[39;49m\u001b[43mpath_1\u001b[49m\u001b[43m \u001b[49m\u001b[38;5;241;43m+\u001b[39;49m\u001b[43m \u001b[49m\u001b[43mname_1\u001b[49m\n\u001b[1;32m     27\u001b[0m \u001b[43m)\u001b[49m\n",
      "File \u001b[0;32m~/Desktop/xG-Model/src/utils_viz.py:286\u001b[0m, in \u001b[0;36mplot_dataframe\u001b[0;34m(df, path)\u001b[0m\n\u001b[1;32m    278\u001b[0m \u001b[38;5;28;01mdef\u001b[39;00m \u001b[38;5;21mplot_dataframe\u001b[39m(df, path):\n\u001b[1;32m    279\u001b[0m \u001b[38;5;250m    \u001b[39m\u001b[38;5;124;03m\"\"\"\u001b[39;00m\n\u001b[1;32m    280\u001b[0m \u001b[38;5;124;03m    Function to make dataframe image.\u001b[39;00m\n\u001b[1;32m    281\u001b[0m \n\u001b[0;32m   (...)\u001b[0m\n\u001b[1;32m    284\u001b[0m \u001b[38;5;124;03m        path (str, optional): path where dataframe image will be saved. Defaults to None.\u001b[39;00m\n\u001b[1;32m    285\u001b[0m \u001b[38;5;124;03m    \"\"\"\u001b[39;00m    \n\u001b[0;32m--> 286\u001b[0m     df_styled \u001b[38;5;241m=\u001b[39m \u001b[43mdf\u001b[49m\u001b[38;5;241;43m.\u001b[39;49m\u001b[43mstyle\u001b[49m\u001b[38;5;241;43m.\u001b[39;49m\u001b[43mhide_index\u001b[49m()\n\u001b[1;32m    287\u001b[0m     dfi\u001b[38;5;241m.\u001b[39mexport(df_styled, path, table_conversion\u001b[38;5;241m=\u001b[39m\u001b[38;5;124m'\u001b[39m\u001b[38;5;124mchrome\u001b[39m\u001b[38;5;124m'\u001b[39m, fontsize\u001b[38;5;241m=\u001b[39m\u001b[38;5;241m15\u001b[39m)\n",
      "\u001b[0;31mAttributeError\u001b[0m: 'Styler' object has no attribute 'hide_index'"
     ]
    }
   ],
   "source": [
    "first_df = make_df(\n",
    "    log_train_df, \n",
    "    cols=[\"player_name\", \"target\", \"shot_statsbomb_xg\", \"pred_log_regg\"]\n",
    ")\n",
    "\n",
    "second_df = make_df(\n",
    "    rnd_train_df, \n",
    "    cols=[\"player_name\", \"target\", \"shot_statsbomb_xg\", \"pred_random_forest\"]\n",
    ")[\"pred_random_forest\"]\n",
    "\n",
    "third_df = make_df(\n",
    "    xb_train_df, \n",
    "    cols=[\"player_name\", \"target\", \"shot_statsbomb_xg\", \"pred_xg_boost\"]\n",
    ")[\"pred_xg_boost\"]\n",
    "\n",
    "main_df = pd.concat([first_df, second_df, third_df], axis=1)\n",
    "\n",
    "path_1 = \"../plots/advance_model/\"\n",
    "name_1 = \"train_simple.png\"\n",
    "\n",
    "if os.path.isdir(path_1) == False:\n",
    "    os.mkdir(path_1) \n",
    "\n",
    "plot_dataframe(\n",
    "    main_df,\n",
    "    path=path_1 + name_1\n",
    ")"
   ]
  },
  {
   "cell_type": "code",
   "execution_count": 40,
   "metadata": {},
   "outputs": [],
   "source": [
    "first_df = make_df(\n",
    "    log_test_df, \n",
    "    cols=[\"player_name\", \"target\", \"shot_statsbomb_xg\", \"pred_log_regg\"]\n",
    ")\n",
    "\n",
    "second_df = make_df(\n",
    "    rnd_test_df, \n",
    "    cols=[\"player_name\", \"target\", \"shot_statsbomb_xg\", \"pred_random_forest\"]\n",
    ")[\"pred_random_forest\"]\n",
    "\n",
    "third_df = make_df(\n",
    "    xb_test_df, \n",
    "    cols=[\"player_name\", \"target\", \"shot_statsbomb_xg\", \"pred_xg_boost\"]\n",
    ")[\"pred_xg_boost\"]\n",
    "\n",
    "main_df = pd.concat([first_df, second_df, third_df], axis=1)\n",
    "\n",
    "\n",
    "path_1 = \"../plots/advance_model/\"\n",
    "name_1 = \"test_simple.png\"\n",
    "\n",
    "if os.path.isdir(path_1) == False:\n",
    "    os.mkdir(path_1) \n",
    "\n",
    "plot_dataframe(\n",
    "    main_df,\n",
    "    path=path_1 + name_1\n",
    ")"
   ]
  },
  {
   "cell_type": "code",
   "execution_count": null,
   "metadata": {},
   "outputs": [],
   "source": []
  },
  {
   "cell_type": "markdown",
   "metadata": {},
   "source": [
    "### P-value"
   ]
  },
  {
   "cell_type": "code",
   "execution_count": 32,
   "metadata": {},
   "outputs": [
    {
     "name": "stdout",
     "output_type": "stream",
     "text": [
      "['angle', 'player_in_between', 'goal_keeper_angle', 'distance']\n"
     ]
    },
    {
     "name": "stderr",
     "output_type": "stream",
     "text": [
      "/home/beebek/Desktop/xG-Model/src/scaling.py:44: FutureWarning: Setting an item of incompatible dtype is deprecated and will raise in a future error of pandas. Value '[-0.00497694 -0.71035717 -0.00497694 ... -0.71035717 -0.71035717\n",
      " -0.71035717]' has dtype incompatible with int64, please explicitly cast to a compatible dtype first.\n",
      "  self.df.loc[:, self.cols] = scaler.transform(self.df.loc[:, self.cols])\n"
     ]
    },
    {
     "name": "stdout",
     "output_type": "stream",
     "text": [
      "Optimization terminated successfully.\n",
      "         Current function value: 0.362577\n",
      "         Iterations 7\n",
      "                           Logit Regression Results                           \n",
      "==============================================================================\n",
      "Dep. Variable:                      y   No. Observations:                15732\n",
      "Model:                          Logit   Df Residuals:                    15716\n",
      "Method:                           MLE   Df Model:                           15\n",
      "Date:                Fri, 25 Jul 2025   Pseudo R-squ.:                0.007096\n",
      "Time:                        23:54:18   Log-Likelihood:                -5704.1\n",
      "converged:                       True   LL-Null:                       -5744.8\n",
      "Covariance Type:            nonrobust   LLR p-value:                 3.671e-11\n",
      "=====================================================================================\n",
      "                        coef    std err          z      P>|z|      [0.025      0.975]\n",
      "-------------------------------------------------------------------------------------\n",
      "open_goal             0.7809      0.221      3.529      0.000       0.347       1.215\n",
      "under_pressure       -0.8363      0.078    -10.697      0.000      -0.989      -0.683\n",
      "deflected             1.7949      0.184      9.757      0.000       1.434       2.155\n",
      "player_in_between    -0.2815      0.033     -8.575      0.000      -0.346      -0.217\n",
      "goal_keeper_angle    -0.2053      0.026     -7.821      0.000      -0.257      -0.154\n",
      "x0_Free Kick         -1.0248      0.129     -7.914      0.000      -1.279      -0.771\n",
      "x1_Head              -1.1681      0.102    -11.414      0.000      -1.369      -0.968\n",
      "x1_Other             -1.6098      0.444     -3.623      0.000      -2.481      -0.739\n",
      "x2_Cross             -2.1130      0.076    -27.861      0.000      -2.262      -1.964\n",
      "x2_Cut Back          -2.8344      0.483     -5.864      0.000      -3.782      -1.887\n",
      "x2_From Corner       -2.2392      0.161    -13.940      0.000      -2.554      -1.924\n",
      "x2_From Free Kick    -2.0347      0.235     -8.641      0.000      -2.496      -1.573\n",
      "x2_Other             -2.2775      0.048    -47.741      0.000      -2.371      -2.184\n",
      "x2_Through Ball      -1.5143      0.085    -17.824      0.000      -1.681      -1.348\n",
      "distance             -0.3874      0.043     -8.923      0.000      -0.472      -0.302\n",
      "angle                 0.5905      0.040     14.668      0.000       0.512       0.669\n",
      "=====================================================================================\n"
     ]
    }
   ],
   "source": [
    "## read in the dataset\n",
    "train_df = pd.read_pickle(\"../input/advance_dataset/train_test_data_final/train_ohe_final.pkl\")\n",
    "\n",
    "## drop unnecessary columns\n",
    "x_train = train_df.drop([\"target\"], axis=1)\n",
    "\n",
    "## scale the values\n",
    "scale = Scale(\n",
    "    df = x_train,\n",
    "    scale_type = \"std\",\n",
    "    cols = [\n",
    "        \"angle\", \"player_in_between\", \"goal_keeper_angle\", \"distance\"\n",
    "    ]\n",
    ")\n",
    "\n",
    "x_train = scale.fit_transform()\n",
    "\n",
    "## fetch target values for train and test dataframe\n",
    "y_train = train_df['target'].values\n",
    "\n",
    "## get summary\n",
    "lm = get_stats(x_train, y_train)\n",
    "\n",
    "print(lm.summary())"
   ]
  },
  {
   "cell_type": "markdown",
   "metadata": {},
   "source": [
    "## Feature Importance: Random Forest"
   ]
  },
  {
   "cell_type": "code",
   "execution_count": 39,
   "metadata": {},
   "outputs": [
    {
     "data": {
      "image/png": "[encoded data removed]",
      "text/plain": [
       "<Figure size 640x480 with 1 Axes>"
      ]
     },
     "metadata": {},
     "output_type": "display_data"
    }
   ],
   "source": [
    "## read in the dataset\n",
    "train_df = pd.read_pickle(\"../input/advance_dataset/train_test_data_final/train_label_final.pkl\")\n",
    "\n",
    "## drop unnecessary columns\n",
    "x_train = train_df.drop([\"target\"], axis=1)\n",
    "y_train = train_df[\"target\"]\n",
    "\n",
    "## columns\n",
    "col_names = x_train.columns\n",
    "\n",
    "## model\n",
    "model = RandomForestClassifier()\n",
    "\n",
    "## fit the model\n",
    "model.fit(x_train, y_train)\n",
    "\n",
    "## feature importance\n",
    "importances = model.feature_importances_\n",
    "idsx = np.argsort(importances)\n",
    "plt.title(\"Feature Importance\")\n",
    "plt.barh(range(len(idsx)), importances[idsx], align=\"center\")\n",
    "plt.yticks(range(len(idsx)), [col_names[i] for i in idsx])\n",
    "plt.xlabel(\"Random Forest Feature Importance\")\n",
    "plt.show()"
   ]
  },
  {
   "cell_type": "markdown",
   "metadata": {},
   "source": [
    "## Feature Importance: xGBoost"
   ]
  },
  {
   "cell_type": "code",
   "execution_count": 40,
   "metadata": {},
   "outputs": [
    {
     "data": {
      "image/png": "[encoded data removed]",
      "text/plain": [
       "<Figure size 640x480 with 1 Axes>"
      ]
     },
     "metadata": {},
     "output_type": "display_data"
    }
   ],
   "source": [
    "## read in the dataset\n",
    "train_df = pd.read_pickle(\"../input/advance_dataset/train_test_data_final/train_label_final.pkl\")\n",
    "\n",
    "## drop unnecessary columns\n",
    "x_train = train_df.drop([\"target\"], axis=1)\n",
    "y_train = train_df[\"target\"]\n",
    "\n",
    "## columns\n",
    "col_names = x_train.columns\n",
    "\n",
    "## model\n",
    "model = XGBClassifier()\n",
    "\n",
    "## fit the model\n",
    "model.fit(x_train, y_train)\n",
    "\n",
    "## feature importance\n",
    "importances = model.feature_importances_\n",
    "idsx = np.argsort(importances)\n",
    "plt.title(\"Feature Importance\")\n",
    "plt.barh(range(len(idsx)), importances[idsx], align=\"center\")\n",
    "plt.yticks(range(len(idsx)), [col_names[i] for i in idsx])\n",
    "plt.xlabel(\"xGBoost Feature Importance\")\n",
    "plt.show()"
   ]
  },
  {
   "cell_type": "markdown",
   "metadata": {},
   "source": [
    "### Log-Reg"
   ]
  },
  {
   "cell_type": "code",
   "execution_count": 41,
   "metadata": {},
   "outputs": [
    {
     "name": "stderr",
     "output_type": "stream",
     "text": [
      "/home/beebek/Desktop/xG-Model/src/scaling.py:44: FutureWarning: Setting an item of incompatible dtype is deprecated and will raise in a future error of pandas. Value '[-0.00497694 -0.71035717 -0.00497694 ... -0.71035717 -0.71035717\n",
      " -0.71035717]' has dtype incompatible with int64, please explicitly cast to a compatible dtype first.\n",
      "  self.df.loc[:, self.cols] = scaler.transform(self.df.loc[:, self.cols])\n",
      "7975.32s - Error patching args (debugger not attached to subprocess).\n",
      "Traceback (most recent call last):\n",
      "  File \"/home/beebek/.local/lib/python3.10/site-packages/debugpy/_vendored/pydevd/_pydev_bundle/pydev_monkey.py\", line 532, in patch_args\n",
      "    new_args.append(_get_python_c_args(host, port, code, unquoted_args, SetupHolder.setup))\n",
      "  File \"/home/beebek/.local/lib/python3.10/site-packages/debugpy/_vendored/pydevd/_pydev_bundle/pydev_monkey.py\", line 189, in _get_python_c_args\n",
      "    if '__future__' in code:\n",
      "TypeError: a bytes-like object is required, not 'str'\n"
     ]
    },
    {
     "name": "stdout",
     "output_type": "stream",
     "text": [
      "['angle', 'player_in_between', 'goal_keeper_angle', 'distance']\n",
      "Fitting 5 folds for each of 80 candidates, totalling 400 fits\n"
     ]
    },
    {
     "name": "stderr",
     "output_type": "stream",
     "text": [
      "/home/beebek/.local/lib/python3.10/site-packages/sklearn/linear_model/_sag.py:348: ConvergenceWarning: The max_iter was reached which means the coef_ did not converge\n",
      "  warnings.warn(\n",
      "/home/beebek/.local/lib/python3.10/site-packages/sklearn/linear_model/_sag.py:348: ConvergenceWarning: The max_iter was reached which means the coef_ did not converge\n",
      "  warnings.warn(\n",
      "/home/beebek/.local/lib/python3.10/site-packages/sklearn/linear_model/_sag.py:348: ConvergenceWarning: The max_iter was reached which means the coef_ did not converge\n",
      "  warnings.warn(\n",
      "/home/beebek/.local/lib/python3.10/site-packages/sklearn/linear_model/_sag.py:348: ConvergenceWarning: The max_iter was reached which means the coef_ did not converge\n",
      "  warnings.warn(\n",
      "/home/beebek/.local/lib/python3.10/site-packages/sklearn/linear_model/_sag.py:348: ConvergenceWarning: The max_iter was reached which means the coef_ did not converge\n",
      "  warnings.warn(\n",
      "/home/beebek/.local/lib/python3.10/site-packages/sklearn/linear_model/_sag.py:348: ConvergenceWarning: The max_iter was reached which means the coef_ did not converge\n",
      "  warnings.warn(\n",
      "/home/beebek/.local/lib/python3.10/site-packages/sklearn/linear_model/_sag.py:348: ConvergenceWarning: The max_iter was reached which means the coef_ did not converge\n",
      "  warnings.warn(\n",
      "/home/beebek/.local/lib/python3.10/site-packages/sklearn/linear_model/_sag.py:348: ConvergenceWarning: The max_iter was reached which means the coef_ did not converge\n",
      "  warnings.warn(\n",
      "/home/beebek/.local/lib/python3.10/site-packages/sklearn/linear_model/_sag.py:348: ConvergenceWarning: The max_iter was reached which means the coef_ did not converge\n",
      "  warnings.warn(\n"
     ]
    },
    {
     "name": "stdout",
     "output_type": "stream",
     "text": [
      "ROC-AUC : 0.803569080973159\n"
     ]
    },
    {
     "name": "stderr",
     "output_type": "stream",
     "text": [
      "/home/beebek/.local/lib/python3.10/site-packages/sklearn/model_selection/_validation.py:516: FitFailedWarning: \n",
      "100 fits failed out of a total of 400.\n",
      "The score on these train-test partitions for these parameters will be set to nan.\n",
      "If these failures are not expected, you can try to debug them by setting error_score='raise'.\n",
      "\n",
      "Below are more details about the failures:\n",
      "--------------------------------------------------------------------------------\n",
      "50 fits failed with the following error:\n",
      "Traceback (most recent call last):\n",
      "  File \"/home/beebek/.local/lib/python3.10/site-packages/sklearn/model_selection/_validation.py\", line 859, in _fit_and_score\n",
      "    estimator.fit(X_train, y_train, **fit_params)\n",
      "  File \"/home/beebek/.local/lib/python3.10/site-packages/sklearn/base.py\", line 1363, in wrapper\n",
      "    return fit_method(estimator, *args, **kwargs)\n",
      "  File \"/home/beebek/.local/lib/python3.10/site-packages/sklearn/linear_model/_logistic.py\", line 1210, in fit\n",
      "    solver = _check_solver(self.solver, self.penalty, self.dual)\n",
      "  File \"/home/beebek/.local/lib/python3.10/site-packages/sklearn/linear_model/_logistic.py\", line 63, in _check_solver\n",
      "    raise ValueError(\n",
      "ValueError: Solver newton-cg supports only 'l2' or None penalties, got l1 penalty.\n",
      "\n",
      "--------------------------------------------------------------------------------\n",
      "50 fits failed with the following error:\n",
      "Traceback (most recent call last):\n",
      "  File \"/home/beebek/.local/lib/python3.10/site-packages/sklearn/model_selection/_validation.py\", line 859, in _fit_and_score\n",
      "    estimator.fit(X_train, y_train, **fit_params)\n",
      "  File \"/home/beebek/.local/lib/python3.10/site-packages/sklearn/base.py\", line 1363, in wrapper\n",
      "    return fit_method(estimator, *args, **kwargs)\n",
      "  File \"/home/beebek/.local/lib/python3.10/site-packages/sklearn/linear_model/_logistic.py\", line 1210, in fit\n",
      "    solver = _check_solver(self.solver, self.penalty, self.dual)\n",
      "  File \"/home/beebek/.local/lib/python3.10/site-packages/sklearn/linear_model/_logistic.py\", line 63, in _check_solver\n",
      "    raise ValueError(\n",
      "ValueError: Solver lbfgs supports only 'l2' or None penalties, got l1 penalty.\n",
      "\n",
      "  warnings.warn(some_fits_failed_message, FitFailedWarning)\n",
      "/home/beebek/.local/lib/python3.10/site-packages/sklearn/model_selection/_search.py:1135: UserWarning: One or more of the test scores are non-finite: [0.5        0.5               nan        nan 0.76676899 0.77144635\n",
      " 0.77144501 0.77144443 0.5        0.5               nan        nan\n",
      " 0.77376451 0.77724778 0.77724846 0.7772238  0.77157446 0.77206558\n",
      "        nan        nan 0.78634527 0.78755504 0.78755407 0.78753501\n",
      " 0.80008802 0.8005376         nan        nan 0.80059864 0.80118302\n",
      " 0.80118148 0.80117132 0.80347356 0.80348886        nan        nan\n",
      " 0.80353562 0.80356812 0.80356908 0.80351271 0.80340512 0.80339684\n",
      "        nan        nan 0.8034409  0.80344205 0.80347206 0.80345449\n",
      " 0.80336388 0.80336581        nan        nan 0.80336908 0.80337505\n",
      " 0.80342793 0.80344    0.80336282 0.80336387        nan        nan\n",
      " 0.80336522 0.80336291 0.80341791 0.80344779 0.8033608  0.80336465\n",
      "        nan        nan 0.80336137 0.80336426 0.80341907 0.80344538\n",
      " 0.80336022 0.80336426        nan        nan 0.80336176 0.80336445\n",
      " 0.80341849 0.80344712]\n",
      "  warnings.warn(\n"
     ]
    }
   ],
   "source": [
    "## read in the dataset\n",
    "train_df = pd.read_pickle(\"../input/advance_dataset/train_test_data_final/train_ohe_final.pkl\")\n",
    "\n",
    "## drop unnecessary columns\n",
    "x_train = train_df.drop([\"target\"], axis=1)\n",
    "\n",
    "## scale the values\n",
    "scale = Scale(\n",
    "    df = x_train,\n",
    "    scale_type = \"std\",\n",
    "    cols = [\n",
    "        \"angle\", \"player_in_between\", \"goal_keeper_angle\", \"distance\"\n",
    "    ]\n",
    ")\n",
    "\n",
    "x_train = scale.fit_transform()\n",
    "\n",
    "## fetch target values for train and test dataframe\n",
    "y_train = train_df['target'].values\n",
    "x_train = x_train.values\n",
    "\n",
    "params = tune_log_model(x_train, y_train)"
   ]
  },
  {
   "cell_type": "code",
   "execution_count": 42,
   "metadata": {},
   "outputs": [
    {
     "data": {
      "text/plain": [
       "{'C': 0.3593813663804626, 'penalty': 'l2', 'solver': 'newton-cg'}"
      ]
     },
     "execution_count": 42,
     "metadata": {},
     "output_type": "execute_result"
    }
   ],
   "source": [
    "params"
   ]
  },
  {
   "cell_type": "markdown",
   "metadata": {},
   "source": [
    "### Random Forest"
   ]
  },
  {
   "cell_type": "code",
   "execution_count": 43,
   "metadata": {},
   "outputs": [
    {
     "name": "stdout",
     "output_type": "stream",
     "text": [
      "Fitting 5 folds for each of 210 candidates, totalling 1050 fits\n",
      "ROC-AUC : 0.8093873329065383\n"
     ]
    }
   ],
   "source": [
    "## read in the dataset\n",
    "train_df = pd.read_pickle(\"../input/advance_dataset/train_test_data_final/train_label_final.pkl\")\n",
    "\n",
    "## drop unnecessary columns\n",
    "x_train = train_df.drop([\"target\"], axis=1)\n",
    "\n",
    "## fetch target values for train and test dataframe\n",
    "y_train = train_df['target'].values\n",
    "x_train = x_train.values\n",
    "\n",
    "params = tune_random_forest(x_train, y_train)"
   ]
  },
  {
   "cell_type": "code",
   "execution_count": 111,
   "metadata": {},
   "outputs": [
    {
     "data": {
      "text/plain": [
       "{'criterion': 'entropy',\n",
       " 'max_depth': 7,\n",
       " 'min_samples_split': 2,\n",
       " 'n_estimators': 100}"
      ]
     },
     "execution_count": 111,
     "metadata": {},
     "output_type": "execute_result"
    }
   ],
   "source": [
    "params"
   ]
  },
  {
   "cell_type": "markdown",
   "metadata": {},
   "source": [
    "### xG Boost"
   ]
  },
  {
   "cell_type": "code",
   "execution_count": 112,
   "metadata": {},
   "outputs": [
    {
     "name": "stdout",
     "output_type": "stream",
     "text": [
      "Fitting 5 folds for each of 125 candidates, totalling 625 fits\n",
      "[Parallel(n_jobs=-1)]: Using backend LokyBackend with 12 concurrent workers.\n",
      "[Parallel(n_jobs=-1)]: Done  26 tasks      | elapsed:    6.2s\n",
      "[Parallel(n_jobs=-1)]: Done 176 tasks      | elapsed:   28.8s\n",
      "[Parallel(n_jobs=-1)]: Done 426 tasks      | elapsed:  1.1min\n",
      "[Parallel(n_jobs=-1)]: Done 625 out of 625 | elapsed:  1.6min finished\n",
      "ROC-AUC : 0.8100990588353962\n"
     ]
    }
   ],
   "source": [
    "## read in the dataset\n",
    "train_df = pd.read_pickle(\"../input/advance_dataset/train_test_data_final/train_label_final.pkl\")\n",
    "\n",
    "## drop unnecessary columns\n",
    "x_train = train_df.drop([\"target\"], axis=1)\n",
    "\n",
    "## fetch target values for train and test dataframe\n",
    "y_train = train_df['target'].values\n",
    "x_train = x_train.values\n",
    "\n",
    "params = tune_xg_boost(x_train, y_train)"
   ]
  },
  {
   "cell_type": "code",
   "execution_count": 113,
   "metadata": {
    "scrolled": true
   },
   "outputs": [
    {
     "data": {
      "text/plain": [
       "{'min_child_weight': 5,\n",
       " 'max_depth': 3,\n",
       " 'learning_rate': 0.1,\n",
       " 'gamma': 0.3,\n",
       " 'colsample_bytree': 0.3}"
      ]
     },
     "execution_count": 113,
     "metadata": {},
     "output_type": "execute_result"
    }
   ],
   "source": [
    "params"
   ]
  }
 ],
 "metadata": {
  "kernelspec": {
   "display_name": "Python 3",
   "language": "python",
   "name": "python3"
  },
  "language_info": {
   "codemirror_mode": {
    "name": "ipython",
    "version": 3
   },
   "file_extension": ".py",
   "mimetype": "text/x-python",
   "name": "python",
   "nbconvert_exporter": "python",
   "pygments_lexer": "ipython3",
   "version": "3.10.12"
  }
 },
 "nbformat": 4,
 "nbformat_minor": 4
}
